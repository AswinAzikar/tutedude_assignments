{
 "cells": [
  {
   "cell_type": "code",
   "execution_count": 2,
   "metadata": {},
   "outputs": [
    {
     "name": "stdout",
     "output_type": "stream",
     "text": [
      "hello world\n"
     ]
    }
   ],
   "source": [
    "print (\"hello world\")"
   ]
  },
  {
   "cell_type": "code",
   "execution_count": 3,
   "metadata": {},
   "outputs": [
    {
     "name": "stdout",
     "output_type": "stream",
     "text": [
      "john\n"
     ]
    }
   ],
   "source": [
    "name = \"john\"\n",
    "print(name)"
   ]
  },
  {
   "cell_type": "code",
   "execution_count": 4,
   "metadata": {},
   "outputs": [
    {
     "name": "stdout",
     "output_type": "stream",
     "text": [
      "Aswin\n"
     ]
    }
   ],
   "source": [
    "name = input(\"Enter the name \")\n",
    "print(name)"
   ]
  },
  {
   "cell_type": "code",
   "execution_count": 14,
   "metadata": {},
   "outputs": [
    {
     "data": {
      "text/plain": [
       "bool"
      ]
     },
     "execution_count": 14,
     "metadata": {},
     "output_type": "execute_result"
    }
   ],
   "source": [
    "num = 31\n",
    "decimal = 311.2\n",
    "String = \"Arithemetic\"\n",
    "boolean = True\n",
    "\n",
    "type(num)\n",
    "type(decimal)\n",
    "type(String)\n",
    "type(boolean)"
   ]
  },
  {
   "cell_type": "code",
   "execution_count": 17,
   "metadata": {},
   "outputs": [
    {
     "name": "stdout",
     "output_type": "stream",
     "text": [
      "Addition =  32\n",
      "Subtraction =  28\n",
      "Multiplication =  60\n",
      "Exponentiation =  900\n",
      "Division =  15.0\n",
      "Floor Division =  15\n",
      "Modulus =  0\n"
     ]
    }
   ],
   "source": [
    "a = 30\n",
    "b = 2\n",
    "\n",
    "\n",
    "addition = a + b\n",
    "subtraction = a - b\n",
    "multiplication = a * b\n",
    "exponentiation = a ** b  \n",
    "division = a / b          \n",
    "floor_division = a // b   \n",
    "modulus = a % b           \n",
    "\n",
    "\n",
    "print(\"Addition = \", addition)\n",
    "print(\"Subtraction = \", subtraction)\n",
    "print(\"Multiplication = \", multiplication)\n",
    "print(\"Exponentiation = \", exponentiation)\n",
    "print(\"Division = \", division)\n",
    "print(\"Floor Division = \", floor_division)\n",
    "print(\"Modulus = \", modulus)"
   ]
  },
  {
   "cell_type": "code",
   "execution_count": 28,
   "metadata": {},
   "outputs": [
    {
     "name": "stdout",
     "output_type": "stream",
     "text": [
      "Length of string: 15\n",
      "First character: T\n",
      "Last character: y\n",
      "Slice 1 (0:5): Today\n",
      "Slice 2 (5:):  is to-day\n",
      "Slice 3 (:7): Today i\n",
      "Slice 4 (3:10): ay is t\n",
      "Slice 5 (::2): Tdyi ody\n"
     ]
    }
   ],
   "source": [
    "\n",
    "string = \"Today is to-day\"\n",
    "\n",
    "\n",
    "length = len(string)\n",
    "\n",
    "\n",
    "first_character = string[0]\n",
    "\n",
    "\n",
    "last_character = string[-1]\n",
    "\n",
    "\n",
    "\n",
    "slice1 = string[0:5]  \n",
    "\n",
    "\n",
    "slice2 = string[5:]    \n",
    "\n",
    "\n",
    "slice3 = string[:7]    \n",
    "\n",
    "\n",
    "slice4 = string[3:10]  \n",
    "\n",
    "\n",
    "slice5 = string[::2]   \n",
    "\n",
    "\n",
    "print(\"Length of string:\", length)\n",
    "print(\"First character:\", first_character)\n",
    "print(\"Last character:\", last_character)\n",
    "print(\"Slice 1 (0:5):\", slice1)\n",
    "print(\"Slice 2 (5:):\", slice2)\n",
    "print(\"Slice 3 (:7):\", slice3)\n",
    "print(\"Slice 4 (3:10):\", slice4)\n",
    "print(\"Slice 5 (::2):\", slice5)"
   ]
  },
  {
   "cell_type": "code",
   "execution_count": 29,
   "metadata": {},
   "outputs": [
    {
     "name": "stdout",
     "output_type": "stream",
     "text": [
      "capitalize: Lasanga for lunch!\n",
      "casefold: lasanga for lunch!\n",
      "center: ******Lasanga for Lunch!******\n",
      "count 'a': 3\n",
      "endswith 'Lunch!': True\n",
      "find 'for': 8\n",
      "format: I had Lasanga for Lunch! for lunch.\n",
      "index 'for': 8\n",
      "isalnum: False\n",
      "isalpha: False\n",
      "isdigit: False\n",
      "islower: False\n",
      "isupper: False\n",
      "join: I love to eat Lasanga for Lunch!\n",
      "lstrip: asanga for Lunch!\n",
      "rstrip: Lasanga for Lunch\n",
      "strip: Lasanga for Lunch!\n",
      "lower: lasanga for lunch!\n",
      "upper: LASANGA FOR LUNCH!\n",
      "replace 'Lasanga' with 'Pizza': Pizza for Lunch!\n",
      "split: ['Lasanga', 'for', 'Lunch!']\n",
      "splitlines: ['Lasanga for Lunch!', 'Enjoy your meal!']\n",
      "title: Lasanga For Lunch!\n",
      "zfill (padding 5): 00042\n"
     ]
    }
   ],
   "source": [
    "\n",
    "str_example = \"Lasanga for Lunch!\"\n",
    "\n",
    "\n",
    "print(\"capitalize:\", str_example.capitalize())\n",
    "\n",
    "\n",
    "print(\"casefold:\", str_example.casefold())\n",
    "\n",
    "\n",
    "print(\"center:\", str_example.center(30, '*'))\n",
    "\n",
    "\n",
    "print(\"count 'a':\", str_example.count('a'))\n",
    "\n",
    "\n",
    "print(\"endswith 'Lunch!':\", str_example.endswith('Lunch!'))\n",
    "\n",
    "\n",
    "print(\"find 'for':\", str_example.find('for'))\n",
    "\n",
    "\n",
    "print(\"format:\", \"I had {} for lunch.\".format(str_example))\n",
    "\n",
    "\n",
    "try:\n",
    "    print(\"index 'for':\", str_example.index('for'))\n",
    "except ValueError:\n",
    "    print(\"index: substring not found\")\n",
    "\n",
    "\n",
    "print(\"isalnum:\", str_example.isalnum())  \n",
    "\n",
    "\n",
    "print(\"isalpha:\", str_example.isalpha())  \n",
    "\n",
    "\n",
    "print(\"isdigit:\", str_example.isdigit())  \n",
    "\n",
    "\n",
    "print(\"islower:\", str_example.islower())  \n",
    "\n",
    "\n",
    "print(\"isupper:\", str_example.isupper())  \n",
    "\n",
    "\n",
    "print(\"join:\", ' '.join(['I', 'love', 'to', 'eat', str_example]))\n",
    "\n",
    "\n",
    "print(\"lstrip:\", str_example.lstrip('L'))\n",
    "\n",
    "\n",
    "print(\"rstrip:\", str_example.rstrip('!'))\n",
    "\n",
    "\n",
    "print(\"strip:\", str_example.strip())\n",
    "\n",
    "\n",
    "print(\"lower:\", str_example.lower())\n",
    "\n",
    "\n",
    "print(\"upper:\", str_example.upper())\n",
    "\n",
    "\n",
    "print(\"replace 'Lasanga' with 'Pizza':\", str_example.replace('Lasanga', 'Pizza'))\n",
    "\n",
    "\n",
    "print(\"split:\", str_example.split())\n",
    "\n",
    "\n",
    "multi_line_str = \"Lasanga for Lunch!\\nEnjoy your meal!\"\n",
    "print(\"splitlines:\", multi_line_str.splitlines())\n",
    "\n",
    "\n",
    "print(\"title:\", str_example.title())\n",
    "\n",
    "\n",
    "num_str = \"42\"\n",
    "print(\"zfill (padding 5):\", num_str.zfill(5))"
   ]
  }
 ],
 "metadata": {
  "kernelspec": {
   "display_name": "Python 3",
   "language": "python",
   "name": "python3"
  },
  "language_info": {
   "codemirror_mode": {
    "name": "ipython",
    "version": 3
   },
   "file_extension": ".py",
   "mimetype": "text/x-python",
   "name": "python",
   "nbconvert_exporter": "python",
   "pygments_lexer": "ipython3",
   "version": "3.10.12"
  }
 },
 "nbformat": 4,
 "nbformat_minor": 2
}
