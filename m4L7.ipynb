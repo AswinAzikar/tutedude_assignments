{
 "cells": [
  {
   "cell_type": "markdown",
   "metadata": {},
   "source": [
    "# Dictionary"
   ]
  },
  {
   "cell_type": "code",
   "execution_count": 10,
   "metadata": {},
   "outputs": [
    {
     "name": "stdout",
     "output_type": "stream",
     "text": [
      "{'India': 'INR', 'United States': 'USD', 'Japan': 'JPY', 'Germany': 'EUR', 'United Kingdom': 'GBP', 'China': 'CNY', 'Brazil': 'BRL', 'South Africa': 'ZAR'}\n"
     ]
    }
   ],
   "source": [
    "\n",
    "currency_dict = {\n",
    "    \"India\": \"INR\",\n",
    "    \"United States\": \"USD\",\n",
    "    \"Japan\": \"JPY\",\n",
    "    \"Germany\": \"EUR\",\n",
    "    \"United Kingdom\": \"GBP\",\n",
    "    \"China\": \"CNY\",\n",
    "    \"Brazil\": \"BRL\",\n",
    "    \"South Africa\": \"ZAR\"\n",
    "}\n",
    "\n",
    "\n",
    "print(currency_dict)"
   ]
  },
  {
   "cell_type": "code",
   "execution_count": 11,
   "metadata": {},
   "outputs": [
    {
     "name": "stdout",
     "output_type": "stream",
     "text": [
      "INR\n",
      "JPY\n"
     ]
    }
   ],
   "source": [
    "\n",
    "print(currency_dict[\"India\"])  \n",
    "\n",
    "\n",
    "print(currency_dict[\"Japan\"])  "
   ]
  },
  {
   "cell_type": "code",
   "execution_count": 12,
   "metadata": {},
   "outputs": [
    {
     "name": "stdout",
     "output_type": "stream",
     "text": [
      "{'India': 'INR', 'United States': 'USD', 'Japan': 'JPY', 'Germany': 'EUR', 'United Kingdom': 'GBP', 'China': 'CNY', 'Brazil': 'BRL', 'South Africa': 'ZAR', 'Russia': 'RUB', 'Mexico': 'MXN'}\n"
     ]
    }
   ],
   "source": [
    "\n",
    "currency_dict[\"Russia\"] = \"RUB\"\n",
    "currency_dict[\"Mexico\"] = \"MXN\"\n",
    "\n",
    "\n",
    "print(currency_dict)"
   ]
  },
  {
   "cell_type": "code",
   "execution_count": 14,
   "metadata": {},
   "outputs": [
    {
     "name": "stdout",
     "output_type": "stream",
     "text": [
      "Keys in the dictionary: dict_keys(['India', 'United States', 'Japan', 'Germany', 'United Kingdom', 'China', 'Brazil', 'South Africa', 'Russia', 'Mexico'])\n"
     ]
    }
   ],
   "source": [
    "keys = currency_dict.keys()\n",
    "\n",
    "\n",
    "print(\"Keys in the dictionary:\", keys)"
   ]
  },
  {
   "cell_type": "code",
   "execution_count": 15,
   "metadata": {},
   "outputs": [
    {
     "name": "stdout",
     "output_type": "stream",
     "text": [
      "Values in the dictionary: dict_values(['INR', 'USD', 'JPY', 'EUR', 'GBP', 'CNY', 'BRL', 'ZAR', 'RUB', 'MXN'])\n"
     ]
    }
   ],
   "source": [
    "\n",
    "values = currency_dict.values()\n",
    "\n",
    "\n",
    "print(\"Values in the dictionary:\", values)"
   ]
  },
  {
   "cell_type": "code",
   "execution_count": 17,
   "metadata": {},
   "outputs": [
    {
     "name": "stdout",
     "output_type": "stream",
     "text": [
      "Updated Currency Dictionary:\n",
      "{'India': 'INR', 'United States': 'USD', 'Japan': 'JPY', 'Germany': 'EUR', 'United Kingdom': 'GBP', 'China': 'CNY', 'Brazil': 'BRL', 'South Africa': 'ZAR', 'Russia': 'RUB', 'Mexico': 'MXN', 'Canada': 'CAD', 'Australia': 'AUD'}\n"
     ]
    }
   ],
   "source": [
    "\n",
    "new_currencies = {\n",
    "    \"Canada\": \"CAD\",\n",
    "    \"Australia\": \"AUD\",\n",
    "    \"India\": \"INR\"  \n",
    "}\n",
    "\n",
    "\n",
    "currency_dict.update(new_currencies)\n",
    "\n",
    "\n",
    "print(\"Updated Currency Dictionary:\")\n",
    "print(currency_dict)"
   ]
  }
 ],
 "metadata": {
  "kernelspec": {
   "display_name": "Python 3",
   "language": "python",
   "name": "python3"
  },
  "language_info": {
   "codemirror_mode": {
    "name": "ipython",
    "version": 3
   },
   "file_extension": ".py",
   "mimetype": "text/x-python",
   "name": "python",
   "nbconvert_exporter": "python",
   "pygments_lexer": "ipython3",
   "version": "3.10.12"
  }
 },
 "nbformat": 4,
 "nbformat_minor": 2
}
