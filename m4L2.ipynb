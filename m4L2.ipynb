{
 "cells": [
  {
   "cell_type": "markdown",
   "metadata": {},
   "source": [
    "# Relational Operators "
   ]
  },
  {
   "cell_type": "code",
   "execution_count": 1,
   "metadata": {},
   "outputs": [
    {
     "name": "stdout",
     "output_type": "stream",
     "text": [
      "True\n",
      "False\n",
      "True\n",
      "True\n",
      "False\n",
      "True\n",
      "False\n"
     ]
    }
   ],
   "source": [
    "\n",
    "a = 10 == 10  \n",
    "b = 10 == 5   \n",
    "\n",
    "\n",
    "c = 10 != 5   \n",
    "d = 10 > 5    \n",
    "e = 10 < 5    \n",
    "f = 10 >= 10  \n",
    "g = 10 <= 5   \n",
    "\n",
    "\n",
    "print(a)  \n",
    "print(b)  \n",
    "print(c)  \n",
    "print(d)  \n",
    "print(e)  \n",
    "print(f)  \n",
    "print(g)  "
   ]
  },
  {
   "cell_type": "code",
   "execution_count": 2,
   "metadata": {},
   "outputs": [
    {
     "name": "stdout",
     "output_type": "stream",
     "text": [
      "44\n",
      "44 is less than or equal to 99\n"
     ]
    }
   ],
   "source": [
    "# Write a program to check if x is less than 99  \n",
    "\n",
    "x = int(input(\"Enter the number: \"))\n",
    "print(x)\n",
    "\n",
    "if x > 99:\n",
    "    print(x, \"is greater than 99\")\n",
    "else:\n",
    "    print(x, \"is less than or equal to 99\")"
   ]
  },
  {
   "cell_type": "code",
   "execution_count": null,
   "metadata": {},
   "outputs": [
    {
     "name": "stdout",
     "output_type": "stream",
     "text": [
      "Original Bill Amount: $66.00\n",
      "Discount Amount: $0.00\n",
      "Final Amount after Discount: $66.00\n"
     ]
    }
   ],
   "source": [
    "def calculate_discount(bill_amount):\n",
    "\n",
    "    if bill_amount < 100:\n",
    "        discount_rate = 0  \n",
    "    elif 100 <= bill_amount < 500:\n",
    "        discount_rate = 0.1  \n",
    "    elif 500 <= bill_amount < 1000:\n",
    "        discount_rate = 0.15  \n",
    "    else:\n",
    "        discount_rate = 0.2  \n",
    "\n",
    "    discount_amount = bill_amount * discount_rate\n",
    "    final_amount = bill_amount - discount_amount\n",
    "\n",
    "    return discount_amount, final_amount\n",
    "\n",
    "\n",
    "\n",
    "try:\n",
    "    bill_amount = float(input(\"Enter the total bill amount: \"))\n",
    "    \n",
    "    if bill_amount < 0:\n",
    "        print(\"Bill amount cannot be negative.\")\n",
    "    else:\n",
    "        discount_amount, final_amount = calculate_discount(bill_amount)\n",
    "\n",
    "        print(f\"Original Bill Amount: ${bill_amount:.2f}\")\n",
    "        print(f\"Discount Amount: ${discount_amount:.2f}\")\n",
    "        print(f\"Final Amount after Discount: ${final_amount:.2f}\")\n",
    "\n",
    "except ValueError:\n",
    "    print(\"Please enter a valid number for the bill amount.\")"
   ]
  },
  {
   "cell_type": "code",
   "execution_count": 4,
   "metadata": {},
   "outputs": [
    {
     "name": "stdout",
     "output_type": "stream",
     "text": [
      "Checking for the year 2015...\n",
      "eNGLAND was not a winner in the 2015 World Cup.\n"
     ]
    }
   ],
   "source": [
    "\n",
    "WORLD_CUPS = {\n",
    "    2019: [\"ENGLAND\", \"AUSTRALIA\"],\n",
    "    2015: [\"AUSTRALIA\", \"NEW ZEALAND\"],\n",
    "    2011: [\"INDIA\", \"SRI LANKA\", \"PAKISTAN\"],\n",
    "    2007: [\"AUSTRALIA\", \"SOUTH AFRICA\"],\n",
    "    2003: [\"AUSTRALIA\", \"INDIA\"],\n",
    "}\n",
    "\n",
    "def check_world_cup_winner(year, country):\n",
    "    \"\"\"Check if the specified country was a winner in the specified year.\"\"\"\n",
    "    if year in WORLD_CUPS:\n",
    "        print(f\"Checking for the year {year}...\")\n",
    "        if country.upper() in WORLD_CUPS[year]:\n",
    "            print(f\"{country} was a winner in the {year} World Cup!\")\n",
    "        else:\n",
    "            print(f\"{country} was not a winner in the {year} World Cup.\")\n",
    "    else:\n",
    "        print(f\"No data available for the year {year}.\")\n",
    "\n",
    "\n",
    "try:\n",
    "    year = int(input(\"Enter the year of the World Cup (e.g., 2019): \"))\n",
    "    country = input(\"Enter the country name (e.g., England): \")\n",
    "\n",
    "    \n",
    "    check_world_cup_winner(year, country)\n",
    "\n",
    "except ValueError:\n",
    "    print(\"Please enter a valid year.\")"
   ]
  },
  {
   "cell_type": "code",
   "execution_count": 5,
   "metadata": {},
   "outputs": [
    {
     "name": "stdout",
     "output_type": "stream",
     "text": [
      "Incorrect password. You have 4 attempt(s) left.\n",
      "Incorrect password. You have 3 attempt(s) left.\n",
      "Incorrect password. You have 2 attempt(s) left.\n",
      "Incorrect password. You have 1 attempt(s) left.\n",
      "Incorrect password. You have 0 attempt(s) left.\n",
      "Access denied! Too many incorrect attempts.\n"
     ]
    }
   ],
   "source": [
    "\n",
    "CORRECT_PASSWORD = \"12345\"\n",
    "MAX_ATTEMPTS = 5\n",
    "\n",
    "def password_verification():\n",
    "    \"\"\"Function to verify the user's password.\"\"\"\n",
    "    attempts = 0  \n",
    "\n",
    "    while attempts < MAX_ATTEMPTS:\n",
    "        \n",
    "        password = input(\"Enter your password: \")\n",
    "\n",
    "        \n",
    "        if password == CORRECT_PASSWORD:\n",
    "            print(\"Access granted! Welcome!\")\n",
    "            break  \n",
    "        else:\n",
    "            attempts += 1  \n",
    "            print(f\"Incorrect password. You have {MAX_ATTEMPTS - attempts} attempt(s) left.\")\n",
    "\n",
    "    if attempts == MAX_ATTEMPTS:\n",
    "        print(\"Access denied! Too many incorrect attempts.\")\n",
    "\n",
    "\n",
    "password_verification()"
   ]
  },
  {
   "cell_type": "code",
   "execution_count": null,
   "metadata": {},
   "outputs": [],
   "source": []
  }
 ],
 "metadata": {
  "kernelspec": {
   "display_name": "Python 3",
   "language": "python",
   "name": "python3"
  },
  "language_info": {
   "codemirror_mode": {
    "name": "ipython",
    "version": 3
   },
   "file_extension": ".py",
   "mimetype": "text/x-python",
   "name": "python",
   "nbconvert_exporter": "python",
   "pygments_lexer": "ipython3",
   "version": "3.10.12"
  }
 },
 "nbformat": 4,
 "nbformat_minor": 2
}
