{
 "cells": [
  {
   "cell_type": "code",
   "execution_count": 1,
   "metadata": {},
   "outputs": [],
   "source": [
    "\n",
    "my_list = [1, 2, 3, 4, 5]\n",
    "\n",
    "\n",
    "string_list = [\"apple\", \"banana\", \"cherry\"]\n",
    "\n",
    "\n",
    "mixed_list = [1, \"apple\", 3.14, True]"
   ]
  },
  {
   "cell_type": "code",
   "execution_count": 2,
   "metadata": {},
   "outputs": [],
   "source": [
    "\n",
    "first_element = my_list[0]      \n",
    "second_element = my_list[1]     \n",
    "last_element = my_list[-1]      "
   ]
  },
  {
   "cell_type": "code",
   "execution_count": 3,
   "metadata": {},
   "outputs": [
    {
     "name": "stdout",
     "output_type": "stream",
     "text": [
      "[10, 2, 3, 4, 5]\n",
      "[10, 2, 3, 4, 5, 6]\n",
      "[10, 2, 4, 5, 6]\n"
     ]
    }
   ],
   "source": [
    "\n",
    "my_list[0] = 10\n",
    "print(my_list)  \n",
    "\n",
    "\n",
    "my_list.append(6)\n",
    "print(my_list)  \n",
    "\n",
    "\n",
    "my_list.remove(3)\n",
    "print(my_list)  "
   ]
  },
  {
   "cell_type": "code",
   "execution_count": 10,
   "metadata": {},
   "outputs": [],
   "source": [
    "sec_list = [\"data\", 1, [\"python\", \"java\"],8.5]\n"
   ]
  },
  {
   "cell_type": "code",
   "execution_count": 11,
   "metadata": {},
   "outputs": [
    {
     "name": "stdout",
     "output_type": "stream",
     "text": [
      "First Element: data\n",
      "Second Element: 1\n",
      "Nested List: ['python', 'java']\n",
      "First Language: python\n",
      "Second Language: java\n",
      "Last Element: 8.5\n"
     ]
    }
   ],
   "source": [
    "\n",
    "\n",
    "first_element = sec_list[0]      \n",
    "second_element = sec_list[1]     \n",
    "nested_list = sec_list[2]         \n",
    "first_language = sec_list[2][0]   \n",
    "second_language = sec_list[2][1]  \n",
    "last_element = sec_list[3]        \n",
    "\n",
    "\n",
    "print(\"First Element:\", first_element)          \n",
    "print(\"Second Element:\", second_element)        \n",
    "print(\"Nested List:\", nested_list)              \n",
    "print(\"First Language:\", first_language)        \n",
    "print(\"Second Language:\", second_language)      \n",
    "print(\"Last Element:\", last_element)            "
   ]
  },
  {
   "cell_type": "code",
   "execution_count": 12,
   "metadata": {},
   "outputs": [
    {
     "name": "stdout",
     "output_type": "stream",
     "text": [
      "['new_data', 1, ['python', 'java'], 8.5]\n",
      "['new_data', 2, ['python', 'java'], 8.5]\n",
      "['new_data', 2, ['JavaScript', 'java'], 8.5]\n",
      "['new_data', 2, ['JavaScript', 'java'], 8.5, 'new_element']\n",
      "['new_data', 2, ['JavaScript', 'java', 'C++'], 8.5, 'new_element']\n"
     ]
    }
   ],
   "source": [
    "\n",
    "\n",
    "sec_list[0] = \"new_data\"\n",
    "print(sec_list)  \n",
    "\n",
    "\n",
    "sec_list[1] = 2\n",
    "print(sec_list)  \n",
    "\n",
    "\n",
    "sec_list[2][0] = \"JavaScript\"\n",
    "print(sec_list)  \n",
    "\n",
    "\n",
    "sec_list.append(\"new_element\")\n",
    "print(sec_list)  \n",
    "\n",
    "\n",
    "sec_list[2].append(\"C++\")\n",
    "print(sec_list)  "
   ]
  },
  {
   "cell_type": "code",
   "execution_count": 13,
   "metadata": {},
   "outputs": [
    {
     "name": "stdout",
     "output_type": "stream",
     "text": [
      "apple\n",
      "banana\n",
      "cherry\n",
      "1\n",
      "2\n",
      "3\n",
      "4.5\n"
     ]
    }
   ],
   "source": [
    "\n",
    "l1 = [\"apple\", \"banana\", \"cherry\", 1, 2, 3, 4.5]\n",
    "\n",
    "\n",
    "for item in l1:\n",
    "    print(item)"
   ]
  },
  {
   "cell_type": "code",
   "execution_count": 14,
   "metadata": {},
   "outputs": [
    {
     "name": "stdout",
     "output_type": "stream",
     "text": [
      "[1, 2, 3, 4, 5, 6]\n"
     ]
    }
   ],
   "source": [
    "\n",
    "l1 = [1, 2, 3]\n",
    "\n",
    "\n",
    "l2 = [4, 5, 6]\n",
    "\n",
    "\n",
    "l1.extend(l2)\n",
    "\n",
    "\n",
    "print(l1)"
   ]
  },
  {
   "cell_type": "code",
   "execution_count": 15,
   "metadata": {},
   "outputs": [
    {
     "name": "stdout",
     "output_type": "stream",
     "text": [
      "[1, 2, 3, 4]\n"
     ]
    }
   ],
   "source": [
    "\n",
    "my_list = [1, 2, 3]\n",
    "\n",
    "\n",
    "my_list.append(4)\n",
    "\n",
    "\n",
    "print(my_list)"
   ]
  },
  {
   "cell_type": "code",
   "execution_count": 16,
   "metadata": {},
   "outputs": [
    {
     "name": "stdout",
     "output_type": "stream",
     "text": [
      "['a', 'b', 'd']\n"
     ]
    }
   ],
   "source": [
    "\n",
    "my_list = ['a', 'b', 'c', 'd']\n",
    "\n",
    "\n",
    "del my_list[2]\n",
    "\n",
    "\n",
    "print(my_list)"
   ]
  },
  {
   "cell_type": "code",
   "execution_count": 17,
   "metadata": {},
   "outputs": [
    {
     "name": "stdout",
     "output_type": "stream",
     "text": [
      "[1, 2, 4, 5]\n"
     ]
    }
   ],
   "source": [
    "\n",
    "my_list = [1, 2, 3, 4, 5]\n",
    "\n",
    "\n",
    "my_list.remove(3)\n",
    "\n",
    "\n",
    "print(my_list)"
   ]
  },
  {
   "cell_type": "code",
   "execution_count": 18,
   "metadata": {},
   "outputs": [
    {
     "name": "stdout",
     "output_type": "stream",
     "text": [
      "[9, 6, 5, 5, 2, 1]\n"
     ]
    }
   ],
   "source": [
    "\n",
    "my_list = [5, 2, 9, 1, 5, 6]\n",
    "\n",
    "\n",
    "my_list.sort(reverse=True)\n",
    "\n",
    "\n",
    "print(my_list)"
   ]
  },
  {
   "cell_type": "code",
   "execution_count": 2,
   "metadata": {},
   "outputs": [
    {
     "name": "stdout",
     "output_type": "stream",
     "text": [
      "['apple ', 'cherry', 'java']\n"
     ]
    }
   ],
   "source": [
    "string_list = [\"java\", \"apple \", \"cherry\", ]\n",
    "b = string_list.sort()\n",
    "print(string_list)"
   ]
  },
  {
   "cell_type": "code",
   "execution_count": 4,
   "metadata": {},
   "outputs": [
    {
     "name": "stdout",
     "output_type": "stream",
     "text": [
      "['apple ', 'cherry', 'java']\n",
      "['java', 'apple ', 'cherry']\n"
     ]
    }
   ],
   "source": [
    "string_list = [\"java\", \"apple \", \"cherry\"]\n",
    "d = sorted(string_list)\n",
    "print(d)\n",
    "print(string_list)"
   ]
  }
 ],
 "metadata": {
  "kernelspec": {
   "display_name": "Python 3",
   "language": "python",
   "name": "python3"
  },
  "language_info": {
   "codemirror_mode": {
    "name": "ipython",
    "version": 3
   },
   "file_extension": ".py",
   "mimetype": "text/x-python",
   "name": "python",
   "nbconvert_exporter": "python",
   "pygments_lexer": "ipython3",
   "version": "3.10.12"
  }
 },
 "nbformat": 4,
 "nbformat_minor": 2
}
