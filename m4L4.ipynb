{
 "cells": [
  {
   "cell_type": "markdown",
   "metadata": {},
   "source": [
    "# Tuples"
   ]
  },
  {
   "cell_type": "code",
   "execution_count": null,
   "metadata": {},
   "outputs": [
    {
     "name": "stdout",
     "output_type": "stream",
     "text": [
      "(1, 2, 3, 'hello', True)\n"
     ]
    }
   ],
   "source": [
    "\n",
    "my_tuple = (1, 2, 3, \"hello\", True)\n",
    "print(my_tuple)  "
   ]
  },
  {
   "cell_type": "code",
   "execution_count": 2,
   "metadata": {},
   "outputs": [
    {
     "name": "stdout",
     "output_type": "stream",
     "text": [
      "1\n",
      "hello\n"
     ]
    }
   ],
   "source": [
    "\n",
    "print(my_tuple[0])  \n",
    "print(my_tuple[3])  "
   ]
  },
  {
   "cell_type": "code",
   "execution_count": 3,
   "metadata": {},
   "outputs": [
    {
     "name": "stdout",
     "output_type": "stream",
     "text": [
      "(2, 3, 'hello')\n"
     ]
    }
   ],
   "source": [
    "\n",
    "print(my_tuple[1:4])  "
   ]
  },
  {
   "cell_type": "code",
   "execution_count": 4,
   "metadata": {},
   "outputs": [
    {
     "name": "stdout",
     "output_type": "stream",
     "text": [
      "(2, 3, 'hello')\n"
     ]
    }
   ],
   "source": [
    "\n",
    "print(my_tuple[1:4])  "
   ]
  },
  {
   "cell_type": "code",
   "execution_count": 6,
   "metadata": {},
   "outputs": [
    {
     "name": "stdout",
     "output_type": "stream",
     "text": [
      "(1, 2, 3)\n",
      "1\n",
      "2\n",
      "3\n"
     ]
    }
   ],
   "source": [
    "packed_tuple = 1, 2, 3\n",
    "print(packed_tuple)  \n",
    "\n",
    "\n",
    "\n",
    "a, b, c = packed_tuple\n",
    "print(a)  \n",
    "print(b)  \n",
    "print(c)  "
   ]
  },
  {
   "cell_type": "code",
   "execution_count": 7,
   "metadata": {},
   "outputs": [
    {
     "name": "stdout",
     "output_type": "stream",
     "text": [
      "Name: Alice, Age: 21, Major: Computer Science\n",
      "Name: Alice, Age: 21, Major: Computer Science\n"
     ]
    }
   ],
   "source": [
    "\n",
    "student_info = (\"Alice\", 21, \"Computer Science\")\n",
    "\n",
    "\n",
    "name = student_info[0]\n",
    "age = student_info[1]\n",
    "major = student_info[2]\n",
    "\n",
    "print(f\"Name: {name}, Age: {age}, Major: {major}\")\n",
    "\n",
    "\n",
    "student_name, student_age, student_major = student_info\n",
    "print(f\"Name: {student_name}, Age: {student_age}, Major: {student_major}\")"
   ]
  },
  {
   "cell_type": "code",
   "execution_count": 8,
   "metadata": {},
   "outputs": [
    {
     "name": "stdout",
     "output_type": "stream",
     "text": [
      "('Hello', 'World', 'Python', 'Rocks')\n"
     ]
    }
   ],
   "source": [
    "\n",
    "tuple1 = (\"Hello\", \"World\")\n",
    "tuple2 = (\"Python\", \"Rocks\")\n",
    "\n",
    "\n",
    "concatenated_tuple = tuple1 + tuple2\n",
    "\n",
    "print(concatenated_tuple)  "
   ]
  },
  {
   "cell_type": "code",
   "execution_count": 10,
   "metadata": {},
   "outputs": [
    {
     "name": "stdout",
     "output_type": "stream",
     "text": [
      "15\n",
      "25\n"
     ]
    }
   ],
   "source": [
    "\n",
    "number_tuple = (1, 2, 3, 4, 5)\n",
    "\n",
    "\n",
    "total = sum(number_tuple)\n",
    "print(total)  \n",
    "\n",
    "\n",
    "total_with_start = sum(number_tuple, 10)\n",
    "print(total_with_start)  "
   ]
  },
  {
   "cell_type": "code",
   "execution_count": 14,
   "metadata": {},
   "outputs": [
    {
     "name": "stdout",
     "output_type": "stream",
     "text": [
      "1\n",
      "8\n"
     ]
    }
   ],
   "source": [
    "\n",
    "number_tuple = (5, 2, 8, 1, 4)\n",
    "\n",
    "\n",
    "minimum_value = min(number_tuple)\n",
    "\n",
    "maximum_value = max(number_tuple)\n",
    "print(minimum_value)\n",
    "\n",
    "print(maximum_value)  "
   ]
  },
  {
   "cell_type": "code",
   "execution_count": 16,
   "metadata": {},
   "outputs": [
    {
     "name": "stdout",
     "output_type": "stream",
     "text": [
      "'tuple' object does not support item assignment\n"
     ]
    }
   ],
   "source": [
    "\n",
    "my_tuple = (1, 2, 3)\n",
    "\n",
    "\n",
    "try:\n",
    "    my_tuple[0] = 10  \n",
    "except TypeError as e:\n",
    "    print(e)  "
   ]
  },
  {
   "cell_type": "code",
   "execution_count": 17,
   "metadata": {},
   "outputs": [
    {
     "name": "stdout",
     "output_type": "stream",
     "text": [
      "'tuple' object has no attribute 'append'\n",
      "'tuple' object has no attribute 'remove'\n"
     ]
    }
   ],
   "source": [
    "\n",
    "try:\n",
    "    my_tuple.append(4)  \n",
    "except AttributeError as e:\n",
    "    print(e)  \n",
    "\n",
    "\n",
    "try:\n",
    "    my_tuple.remove(2)  \n",
    "except AttributeError as e:\n",
    "    print(e)  "
   ]
  },
  {
   "cell_type": "code",
   "execution_count": 18,
   "metadata": {},
   "outputs": [
    {
     "name": "stdout",
     "output_type": "stream",
     "text": [
      "(1, 2, 4, 5, 8)\n"
     ]
    }
   ],
   "source": [
    "\n",
    "number_tuple = (5, 2, 8, 1, 4)\n",
    "\n",
    "\n",
    "sorted_list = sorted(number_tuple)  \n",
    "sorted_tuple = tuple(sorted_list)    \n",
    "\n",
    "print(sorted_tuple)  "
   ]
  }
 ],
 "metadata": {
  "kernelspec": {
   "display_name": "Python 3",
   "language": "python",
   "name": "python3"
  },
  "language_info": {
   "codemirror_mode": {
    "name": "ipython",
    "version": 3
   },
   "file_extension": ".py",
   "mimetype": "text/x-python",
   "name": "python",
   "nbconvert_exporter": "python",
   "pygments_lexer": "ipython3",
   "version": "3.10.12"
  }
 },
 "nbformat": 4,
 "nbformat_minor": 2
}
