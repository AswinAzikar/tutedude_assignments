{
 "cells": [
  {
   "cell_type": "code",
   "execution_count": null,
   "metadata": {},
   "outputs": [
    {
     "name": "stdout",
     "output_type": "stream",
     "text": [
      "1\n",
      "2\n",
      "3\n",
      "5\n",
      "6\n"
     ]
    }
   ],
   "source": [
    "# iterate over a list of intergers\n",
    "\n",
    "\n",
    "l = [1,2,3,5,6]\n",
    "for i in l:\n",
    "        print(i)\n",
    "\n"
   ]
  },
  {
   "cell_type": "code",
   "execution_count": null,
   "metadata": {},
   "outputs": [
    {
     "name": "stdout",
     "output_type": "stream",
     "text": [
      "H\n",
      "e\n",
      "l\n",
      "l\n",
      "o\n",
      ",\n",
      " \n",
      "W\n",
      "o\n",
      "r\n",
      "l\n",
      "d\n",
      "!\n"
     ]
    }
   ],
   "source": [
    "\n",
    "# Iterate over the string\n",
    "s = \"Hello, World!\"\n",
    "\n",
    "for char in s:\n",
    "    print(char)\n",
    "\n",
    "    "
   ]
  },
  {
   "cell_type": "code",
   "execution_count": 8,
   "metadata": {},
   "outputs": [
    {
     "name": "stdout",
     "output_type": "stream",
     "text": [
      "H:e:l:l:o:,: :W:o:r:l:d:!:"
     ]
    }
   ],
   "source": [
    "\n",
    "for char in s:\n",
    "    print(char, end=\":\")"
   ]
  },
  {
   "cell_type": "code",
   "execution_count": 9,
   "metadata": {},
   "outputs": [
    {
     "name": "stdout",
     "output_type": "stream",
     "text": [
      "Iterating over keys:\n",
      "name\n",
      "age\n",
      "city\n",
      "\n",
      "Iterating over values:\n",
      "Alice\n",
      "30\n",
      "New York\n",
      "\n",
      "Iterating over key-value pairs:\n",
      "name: Alice\n",
      "age: 30\n",
      "city: New York\n"
     ]
    }
   ],
   "source": [
    "\n",
    "my_dict = {\n",
    "    \"name\": \"Alice\",\n",
    "    \"age\": 30,\n",
    "    \"city\": \"New York\"\n",
    "}\n",
    "\n",
    "# Iterate over the keys\n",
    "print(\"Iterating over keys:\")\n",
    "for key in my_dict:\n",
    "    print(key)\n",
    "\n",
    "# Iterate over the values\n",
    "print(\"\\nIterating over values:\")\n",
    "for value in my_dict.values():\n",
    "    print(value)\n",
    "\n",
    "# Iterate over key-value pairs\n",
    "print(\"\\nIterating over key-value pairs:\")\n",
    "for key, value in my_dict.items():\n",
    "    print(f\"{key}: {value}\")"
   ]
  },
  {
   "cell_type": "code",
   "execution_count": 10,
   "metadata": {},
   "outputs": [
    {
     "data": {
      "text/plain": [
       "[1,\n",
       " 2,\n",
       " 3,\n",
       " 4,\n",
       " 5,\n",
       " 6,\n",
       " 7,\n",
       " 8,\n",
       " 9,\n",
       " 10,\n",
       " 11,\n",
       " 12,\n",
       " 13,\n",
       " 14,\n",
       " 15,\n",
       " 16,\n",
       " 17,\n",
       " 18,\n",
       " 19,\n",
       " 20,\n",
       " 21,\n",
       " 22,\n",
       " 23,\n",
       " 24,\n",
       " 25,\n",
       " 26,\n",
       " 27,\n",
       " 28,\n",
       " 29,\n",
       " 30,\n",
       " 31,\n",
       " 32,\n",
       " 33,\n",
       " 34,\n",
       " 35,\n",
       " 36,\n",
       " 37,\n",
       " 38,\n",
       " 39,\n",
       " 40,\n",
       " 41,\n",
       " 42,\n",
       " 43,\n",
       " 44,\n",
       " 45,\n",
       " 46,\n",
       " 47,\n",
       " 48,\n",
       " 49,\n",
       " 50,\n",
       " 51,\n",
       " 52,\n",
       " 53,\n",
       " 54,\n",
       " 55,\n",
       " 56,\n",
       " 57,\n",
       " 58,\n",
       " 59,\n",
       " 60,\n",
       " 61,\n",
       " 62,\n",
       " 63,\n",
       " 64,\n",
       " 65,\n",
       " 66,\n",
       " 67,\n",
       " 68,\n",
       " 69,\n",
       " 70,\n",
       " 71,\n",
       " 72,\n",
       " 73,\n",
       " 74,\n",
       " 75,\n",
       " 76,\n",
       " 77,\n",
       " 78,\n",
       " 79,\n",
       " 80,\n",
       " 81,\n",
       " 82,\n",
       " 83,\n",
       " 84,\n",
       " 85,\n",
       " 86,\n",
       " 87,\n",
       " 88,\n",
       " 89,\n",
       " 90,\n",
       " 91,\n",
       " 92,\n",
       " 93,\n",
       " 94,\n",
       " 95,\n",
       " 96,\n",
       " 97,\n",
       " 98,\n",
       " 99,\n",
       " 100]"
      ]
     },
     "execution_count": 10,
     "metadata": {},
     "output_type": "execute_result"
    }
   ],
   "source": [
    "l = list(range(1,101))\n",
    "l"
   ]
  },
  {
   "cell_type": "code",
   "execution_count": 12,
   "metadata": {},
   "outputs": [
    {
     "name": "stdout",
     "output_type": "stream",
     "text": [
      "Iterating over a range from 0 to 9:\n",
      "0\n",
      "1\n",
      "2\n",
      "3\n",
      "4\n",
      "5\n",
      "6\n",
      "7\n",
      "8\n",
      "9\n",
      "\n",
      "Iterating over a range from 5 to 14:\n",
      "5\n",
      "6\n",
      "7\n",
      "8\n",
      "9\n",
      "10\n",
      "11\n",
      "12\n",
      "13\n",
      "14\n",
      "\n",
      "Iterating over a range from 0 to 20 with a step of 2:\n",
      "0\n",
      "2\n",
      "4\n",
      "6\n",
      "8\n",
      "10\n",
      "12\n",
      "14\n",
      "16\n",
      "18\n"
     ]
    }
   ],
   "source": [
    "\n",
    "print(\"Iterating over a range from 0 to 9:\")\n",
    "for i in range(10):\n",
    "    print(i)\n",
    "\n",
    "\n",
    "print(\"\\nIterating over a range from 5 to 14:\")\n",
    "for i in range(5, 15):\n",
    "    print(i)\n",
    "\n",
    "\n",
    "print(\"\\nIterating over a range from 0 to 20 with a step of 2:\")\n",
    "for i in range(0, 20, 2):\n",
    "    print(i)"
   ]
  },
  {
   "cell_type": "code",
   "execution_count": 13,
   "metadata": {},
   "outputs": [
    {
     "name": "stdout",
     "output_type": "stream",
     "text": [
      "Prime numbers between 1 and 20:\n",
      "2\n",
      "3\n",
      "5\n",
      "7\n",
      "11\n",
      "13\n",
      "17\n",
      "19\n"
     ]
    }
   ],
   "source": [
    "\n",
    "print(\"Prime numbers between 1 and 20:\")\n",
    "\n",
    "for num in range(1, 21):\n",
    "    if num <= 1:\n",
    "        continue  \n",
    "    is_prime = True  \n",
    "    for i in range(2, int(num**0.5) + 1):\n",
    "        if num % i == 0:  \n",
    "            is_prime = False  \n",
    "            break  \n",
    "    if is_prime:\n",
    "        print(num)"
   ]
  },
  {
   "cell_type": "code",
   "execution_count": 14,
   "metadata": {},
   "outputs": [
    {
     "name": "stdout",
     "output_type": "stream",
     "text": [
      "[10, 'Hello', [1, 2, 3], 3.14]\n"
     ]
    }
   ],
   "source": [
    "\n",
    "my_list = []\n",
    "\n",
    "\n",
    "my_list.append(10)          \n",
    "my_list.append(\"Hello\")     \n",
    "my_list.append([1, 2, 3])   \n",
    "my_list.append(3.14)        \n",
    "\n",
    "\n",
    "print(my_list)  "
   ]
  },
  {
   "cell_type": "code",
   "execution_count": 15,
   "metadata": {},
   "outputs": [
    {
     "name": "stdout",
     "output_type": "stream",
     "text": [
      "{'hello': 5, 'world': 5, 'python': 6}\n"
     ]
    }
   ],
   "source": [
    "words = ['hello', 'world', 'python']\n",
    "lengths_dict = {word: len(word) for word in words}\n",
    "print(lengths_dict)  "
   ]
  },
  {
   "cell_type": "code",
   "execution_count": 17,
   "metadata": {},
   "outputs": [
    {
     "name": "stdout",
     "output_type": "stream",
     "text": [
      "Vowels in the word: e, o\n"
     ]
    }
   ],
   "source": [
    "def extract_vowels(word):\n",
    "    \n",
    "    vowels = 'aeiouAEIOU'\n",
    "    \n",
    "    \n",
    "    found_vowels = {char for char in word if char in vowels}\n",
    "    \n",
    "    \n",
    "    return sorted(found_vowels)\n",
    "\n",
    "\n",
    "input_word = input(\"Enter a word: \")\n",
    "\n",
    "\n",
    "vowels_in_word = extract_vowels(input_word)\n",
    "\n",
    "\n",
    "if vowels_in_word:\n",
    "    print(\"Vowels in the word:\", ', '.join(vowels_in_word))\n",
    "else:\n",
    "    print(\"No vowels found in the word.\")"
   ]
  },
  {
   "cell_type": "code",
   "execution_count": 19,
   "metadata": {},
   "outputs": [
    {
     "name": "stdout",
     "output_type": "stream",
     "text": [
      "The factorial of 4 is: 24\n"
     ]
    }
   ],
   "source": [
    "\n",
    "def factorial(n):\n",
    "    \n",
    "    if n < 0:\n",
    "        return \"Factorial is not defined for negative numbers.\"\n",
    "    elif n == 0 or n == 1:\n",
    "        return 1\n",
    "    else:\n",
    "        result = 1\n",
    "        for i in range(2, n + 1):\n",
    "            result *= i\n",
    "        return result\n",
    "\n",
    "\n",
    "value = int(input(\"Enter a non-negative integer: \"))\n",
    "fact = factorial(value)\n",
    "print(f\"The factorial of {value} is: {fact}\")"
   ]
  },
  {
   "cell_type": "code",
   "execution_count": 26,
   "metadata": {},
   "outputs": [],
   "source": [
    "def func(Name , age):\n",
    "    print(f\"you are , {Name}!\")\n",
    "    print(f\"you are {age} years old\")\n",
    "\n",
    "\n",
    "def new_func(*arg):\n",
    "    print(\"any type value : \", arg)"
   ]
  },
  {
   "cell_type": "code",
   "execution_count": 28,
   "metadata": {},
   "outputs": [
    {
     "name": "stdout",
     "output_type": "stream",
     "text": [
      "you are , Aswin!\n",
      "you are 24 years old\n",
      "any type value :  ('aswin',)\n",
      "any type value :  (88,)\n"
     ]
    }
   ],
   "source": [
    "func(\"Aswin\",24)\n",
    "new_func(\"aswin\")\n",
    "new_func(88)"
   ]
  },
  {
   "cell_type": "code",
   "execution_count": 29,
   "metadata": {},
   "outputs": [
    {
     "name": "stdout",
     "output_type": "stream",
     "text": [
      "[2, 4, 6]\n"
     ]
    }
   ],
   "source": [
    "numbers = [1, 2, 3, 4, 5, 6]\n",
    "even_numbers = list(filter(lambda x: x % 2 == 0, numbers))\n",
    "print(even_numbers)  "
   ]
  }
 ],
 "metadata": {
  "kernelspec": {
   "display_name": "Python 3",
   "language": "python",
   "name": "python3"
  },
  "language_info": {
   "codemirror_mode": {
    "name": "ipython",
    "version": 3
   },
   "file_extension": ".py",
   "mimetype": "text/x-python",
   "name": "python",
   "nbconvert_exporter": "python",
   "pygments_lexer": "ipython3",
   "version": "3.10.12"
  }
 },
 "nbformat": 4,
 "nbformat_minor": 2
}
