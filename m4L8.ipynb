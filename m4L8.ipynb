{
 "cells": [
  {
   "cell_type": "markdown",
   "metadata": {},
   "source": [
    "# Classes and Objects"
   ]
  },
  {
   "cell_type": "code",
   "execution_count": 3,
   "metadata": {},
   "outputs": [],
   "source": [
    "class Rectangle:\n",
    "    def __init__(self):\n",
    "        self.length = 10  \n",
    "        self.breadth = 5  "
   ]
  },
  {
   "cell_type": "code",
   "execution_count": null,
   "metadata": {},
   "outputs": [
    {
     "name": "stdout",
     "output_type": "stream",
     "text": [
      "Length: 10 Breadth: 5\n"
     ]
    }
   ],
   "source": [
    "# Creating an object of Rectangle with specific dimensions\n",
    "rect = Rectangle(15, 10)\n",
    "\n",
    "# Accessing the attributes of the object\n",
    "print(\"Length:\", rect.length, \"Breadth:\", rect.breadth)\n",
    "rect = Rectangle()\n",
    "\n",
    "\n",
    "print(\"Length:\", rect.length, \"Breadth:\", rect.breadth)"
   ]
  },
  {
   "cell_type": "markdown",
   "metadata": {},
   "source": [
    "## parametierized Consructor"
   ]
  },
  {
   "cell_type": "code",
   "execution_count": 5,
   "metadata": {},
   "outputs": [],
   "source": [
    "class Rectangle:\n",
    "    def __init__(self, length, breadth):\n",
    "        self.length = length  \n",
    "        self.breadth = breadth  "
   ]
  },
  {
   "cell_type": "code",
   "execution_count": null,
   "metadata": {},
   "outputs": [
    {
     "name": "stdout",
     "output_type": "stream",
     "text": [
      "Length: 15 Breadth: 10\n"
     ]
    }
   ],
   "source": [
    "\n",
    "rect = Rectangle(15, 10)\n",
    "\n",
    "\n",
    "print(\"Length:\", rect.length, \"Breadth:\", rect.breadth)"
   ]
  },
  {
   "cell_type": "markdown",
   "metadata": {},
   "source": [
    "## class variable and instance variavle"
   ]
  },
  {
   "cell_type": "code",
   "execution_count": 7,
   "metadata": {},
   "outputs": [
    {
     "name": "stdout",
     "output_type": "stream",
     "text": [
      "Circle 1 - Radius: 5, Pi: 3.14\n",
      "Circle 2 - Radius: 10, Pi: 3.14\n",
      "Updated Pi: 3.1436\n",
      "Circle 1 - Radius: 5, Pi: 3.1436\n",
      "Circle 2 - Radius: 10, Pi: 3.1436\n"
     ]
    }
   ],
   "source": [
    "class Circle:\n",
    "    \n",
    "    pi = 3.14\n",
    "\n",
    "    def __init__(self, radius):\n",
    "        \n",
    "        self.radius = radius\n",
    "\n",
    "\n",
    "circle1 = Circle(5)\n",
    "circle2 = Circle(10)\n",
    "\n",
    "\n",
    "print(\"Circle 1 - Radius: {}, Pi: {}\".format(circle1.radius, Circle.pi))\n",
    "print(\"Circle 2 - Radius: {}, Pi: {}\".format(circle2.radius, Circle.pi))\n",
    "\n",
    "\n",
    "Circle.pi = 3.1436\n",
    "\n",
    "\n",
    "print(\"Updated Pi: {}\".format(Circle.pi))\n",
    "\n",
    "\n",
    "print(\"Circle 1 - Radius: {}, Pi: {}\".format(circle1.radius, circle1.pi))\n",
    "print(\"Circle 2 - Radius: {}, Pi: {}\".format(circle2.radius, circle2.pi))"
   ]
  },
  {
   "cell_type": "markdown",
   "metadata": {},
   "source": [
    "### Adding method to a class"
   ]
  },
  {
   "cell_type": "code",
   "execution_count": 8,
   "metadata": {},
   "outputs": [
    {
     "name": "stdout",
     "output_type": "stream",
     "text": [
      "Length = 10 Breadth = 5\n",
      "Area = 50\n",
      "Perimeter = 30\n"
     ]
    }
   ],
   "source": [
    "class Rectangle:\n",
    "    def __init__(self, length, breadth):\n",
    "        self.length = length\n",
    "        self.breadth = breadth\n",
    "\n",
    "    def calc_area(self):\n",
    "        return self.length * self.breadth\n",
    "\n",
    "    def calc_perimeter(self):\n",
    "        return 2 * (self.length + self.breadth)  \n",
    "\n",
    "\n",
    "rect = Rectangle(10, 5)\n",
    "\n",
    "\n",
    "print(\"Length =\", rect.length, \"Breadth =\", rect.breadth)\n",
    "print(\"Area =\", rect.calc_area())\n",
    "print(\"Perimeter =\", rect.calc_perimeter())"
   ]
  },
  {
   "cell_type": "markdown",
   "metadata": {},
   "source": [
    "### Class method and Static method"
   ]
  },
  {
   "cell_type": "code",
   "execution_count": null,
   "metadata": {},
   "outputs": [
    {
     "name": "stdout",
     "output_type": "stream",
     "text": [
      "Radius: 5\n",
      "Area: 78.5\n",
      "Accessed Pi: 3.14\n",
      "This is a Static Method\n"
     ]
    }
   ],
   "source": [
    "class Circle:\n",
    "    pi = 3.14  \n",
    "\n",
    "    def __init__(self, radius):\n",
    "        self.radius = radius  \n",
    "\n",
    "    \n",
    "    def calculate_area(self):\n",
    "        return Circle.pi * (self.radius ** 2)  \n",
    "\n",
    "    \n",
    "    @classmethod\n",
    "    def access_pi(cls):\n",
    "        return cls.pi  \n",
    "\n",
    "    \n",
    "    @staticmethod\n",
    "    def circle_static():\n",
    "        print(\"This is a Static Method\")\n",
    "\n",
    "\n",
    "cir = Circle(5)\n",
    "\n",
    "\n",
    "print(\"Radius:\", cir.radius)\n",
    "print(\"Area:\", cir.calculate_area())\n",
    "\n",
    "\n",
    "print(\"Accessed Pi:\", Circle.access_pi())\n",
    "\n",
    "\n",
    "Circle.circle_static()"
   ]
  },
  {
   "cell_type": "markdown",
   "metadata": {},
   "source": [
    "### Inheritance and Overriding"
   ]
  },
  {
   "cell_type": "code",
   "execution_count": 13,
   "metadata": {},
   "outputs": [
    {
     "name": "stdout",
     "output_type": "stream",
     "text": [
      "Circle with radius=5, color=red, cost=10\n",
      "Area of the Rectangle=20\n"
     ]
    }
   ],
   "source": [
    "class Shape:\n",
    "    def set_color(self, color):\n",
    "        self.color = color\n",
    "\n",
    "    def calculate_area(self):\n",
    "        pass  \n",
    "\n",
    "    def color_the_shape(self):\n",
    "        color_price = {\n",
    "            \"red\": 10,\n",
    "            \"blue\": 15,\n",
    "            \"green\": 20\n",
    "        }\n",
    "        return color_price.get(self.color, 0)  \n",
    "\n",
    "class Circle(Shape):\n",
    "    pi = 3.14\n",
    "\n",
    "    def __init__(self, radius):\n",
    "        self.radius = radius\n",
    "\n",
    "    \n",
    "    def calculate_area(self):\n",
    "        return Circle.pi * (self.radius ** 2)  \n",
    "\n",
    "    def __str__(self):\n",
    "        return f\"Circle with radius={self.radius}, color={self.color}, cost={self.color_the_shape()}\"\n",
    "\n",
    "class Rectangle(Shape):\n",
    "    def __init__(self, length, breadth):\n",
    "        self.length = length\n",
    "        self.breadth = breadth\n",
    "\n",
    "    \n",
    "    def calculate_area(self):\n",
    "        return self.length * self.breadth  \n",
    "\n",
    "    def __str__(self):\n",
    "        return f\"Area of the Rectangle={self.calculate_area()}\"\n",
    "\n",
    "\n",
    "c = Circle(5)\n",
    "c.set_color(\"red\")  \n",
    "print(c)  \n",
    "\n",
    "\n",
    "rect = Rectangle(4, 5)\n",
    "rect.set_color(\"blue\")  \n",
    "print(rect)  "
   ]
  }
 ],
 "metadata": {
  "kernelspec": {
   "display_name": "Python 3",
   "language": "python",
   "name": "python3"
  },
  "language_info": {
   "codemirror_mode": {
    "name": "ipython",
    "version": 3
   },
   "file_extension": ".py",
   "mimetype": "text/x-python",
   "name": "python",
   "nbconvert_exporter": "python",
   "pygments_lexer": "ipython3",
   "version": "3.10.12"
  }
 },
 "nbformat": 4,
 "nbformat_minor": 2
}
