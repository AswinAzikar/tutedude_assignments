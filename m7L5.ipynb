{
 "cells": [
  {
   "cell_type": "code",
   "execution_count": 1,
   "id": "d914b30b",
   "metadata": {
    "execution": {
     "iopub.execute_input": "2024-11-12T14:33:57.075324Z",
     "iopub.status.busy": "2024-11-12T14:33:57.074876Z",
     "iopub.status.idle": "2024-11-12T14:33:57.087462Z",
     "shell.execute_reply": "2024-11-12T14:33:57.086505Z"
    },
    "papermill": {
     "duration": 0.0223,
     "end_time": "2024-11-12T14:33:57.090092",
     "exception": false,
     "start_time": "2024-11-12T14:33:57.067792",
     "status": "completed"
    },
    "tags": []
   },
   "outputs": [],
   "source": [
    "import numpy as np "
   ]
  },
  {
   "cell_type": "code",
   "execution_count": 2,
   "id": "bbcfcb95",
   "metadata": {
    "execution": {
     "iopub.execute_input": "2024-11-12T14:33:57.102166Z",
     "iopub.status.busy": "2024-11-12T14:33:57.101712Z",
     "iopub.status.idle": "2024-11-12T14:33:58.064159Z",
     "shell.execute_reply": "2024-11-12T14:33:58.062798Z"
    },
    "papermill": {
     "duration": 0.971741,
     "end_time": "2024-11-12T14:33:58.067108",
     "exception": false,
     "start_time": "2024-11-12T14:33:57.095367",
     "status": "completed"
    },
    "tags": []
   },
   "outputs": [],
   "source": [
    "import pandas as pd"
   ]
  },
  {
   "cell_type": "code",
   "execution_count": 3,
   "id": "27a9362c",
   "metadata": {
    "execution": {
     "iopub.execute_input": "2024-11-12T14:33:58.079033Z",
     "iopub.status.busy": "2024-11-12T14:33:58.078430Z",
     "iopub.status.idle": "2024-11-12T14:33:58.759066Z",
     "shell.execute_reply": "2024-11-12T14:33:58.757752Z"
    },
    "papermill": {
     "duration": 0.68976,
     "end_time": "2024-11-12T14:33:58.761914",
     "exception": false,
     "start_time": "2024-11-12T14:33:58.072154",
     "status": "completed"
    },
    "tags": []
   },
   "outputs": [
    {
     "data": {
      "text/html": [
       "<div>\n",
       "<style scoped>\n",
       "    .dataframe tbody tr th:only-of-type {\n",
       "        vertical-align: middle;\n",
       "    }\n",
       "\n",
       "    .dataframe tbody tr th {\n",
       "        vertical-align: top;\n",
       "    }\n",
       "\n",
       "    .dataframe thead th {\n",
       "        text-align: right;\n",
       "    }\n",
       "</style>\n",
       "<table border=\"1\" class=\"dataframe\">\n",
       "  <thead>\n",
       "    <tr style=\"text-align: right;\">\n",
       "      <th></th>\n",
       "      <th>country</th>\n",
       "      <th>order_value_EUR</th>\n",
       "      <th>cost</th>\n",
       "      <th>date</th>\n",
       "      <th>category</th>\n",
       "      <th>customer_name</th>\n",
       "      <th>sales_manager</th>\n",
       "      <th>sales_rep</th>\n",
       "      <th>device_type</th>\n",
       "      <th>order_id</th>\n",
       "    </tr>\n",
       "  </thead>\n",
       "  <tbody>\n",
       "    <tr>\n",
       "      <th>0</th>\n",
       "      <td>Sweden</td>\n",
       "      <td>98320.37</td>\n",
       "      <td>77722.25</td>\n",
       "      <td>8/23/2020</td>\n",
       "      <td>Games</td>\n",
       "      <td>Konopelski LLC</td>\n",
       "      <td>Maxie Marrow</td>\n",
       "      <td>Tarrah Castelletti</td>\n",
       "      <td>Tablet</td>\n",
       "      <td>70-0511466</td>\n",
       "    </tr>\n",
       "    <tr>\n",
       "      <th>1</th>\n",
       "      <td>France</td>\n",
       "      <td>46296.26</td>\n",
       "      <td>40319.41</td>\n",
       "      <td>5/15/2020</td>\n",
       "      <td>Games</td>\n",
       "      <td>Wisoky Inc</td>\n",
       "      <td>Othello Bowes</td>\n",
       "      <td>Amelina Piscopiello</td>\n",
       "      <td>Tablet</td>\n",
       "      <td>77-3489084</td>\n",
       "    </tr>\n",
       "    <tr>\n",
       "      <th>2</th>\n",
       "      <td>Portugal</td>\n",
       "      <td>140337.34</td>\n",
       "      <td>115708.14</td>\n",
       "      <td>2020-04-09 00:00:00</td>\n",
       "      <td>Appliances</td>\n",
       "      <td>Hegmann Group</td>\n",
       "      <td>Celine Tumasian</td>\n",
       "      <td>Corene Shirer</td>\n",
       "      <td>PC</td>\n",
       "      <td>65-8218141</td>\n",
       "    </tr>\n",
       "    <tr>\n",
       "      <th>3</th>\n",
       "      <td>France</td>\n",
       "      <td>203604.46</td>\n",
       "      <td>175344.16</td>\n",
       "      <td>6/26/2019</td>\n",
       "      <td>Electronics</td>\n",
       "      <td>Kirlin and Sons</td>\n",
       "      <td>Othello Bowes</td>\n",
       "      <td>Crysta Halls</td>\n",
       "      <td>Mobile</td>\n",
       "      <td>29-5478106</td>\n",
       "    </tr>\n",
       "    <tr>\n",
       "      <th>4</th>\n",
       "      <td>UK</td>\n",
       "      <td>63979.04</td>\n",
       "      <td>56032.84</td>\n",
       "      <td>10/22/2019</td>\n",
       "      <td>Games</td>\n",
       "      <td>Schoen-Keeling</td>\n",
       "      <td>Jessamine Apark</td>\n",
       "      <td>Genevra Charrisson</td>\n",
       "      <td>PC</td>\n",
       "      <td>27-3437546</td>\n",
       "    </tr>\n",
       "    <tr>\n",
       "      <th>...</th>\n",
       "      <td>...</td>\n",
       "      <td>...</td>\n",
       "      <td>...</td>\n",
       "      <td>...</td>\n",
       "      <td>...</td>\n",
       "      <td>...</td>\n",
       "      <td>...</td>\n",
       "      <td>...</td>\n",
       "      <td>...</td>\n",
       "      <td>...</td>\n",
       "    </tr>\n",
       "    <tr>\n",
       "      <th>996</th>\n",
       "      <td>France</td>\n",
       "      <td>69126.50</td>\n",
       "      <td>55902.6</td>\n",
       "      <td>2019-08-12 00:00:00</td>\n",
       "      <td>Electronics</td>\n",
       "      <td>Farrell, Swaniawski and Crist</td>\n",
       "      <td>Othello Bowes</td>\n",
       "      <td>Avrit Chanders</td>\n",
       "      <td>PC</td>\n",
       "      <td>07-3201531</td>\n",
       "    </tr>\n",
       "    <tr>\n",
       "      <th>997</th>\n",
       "      <td>France</td>\n",
       "      <td>140943.88</td>\n",
       "      <td>120633.87</td>\n",
       "      <td>5/28/2020</td>\n",
       "      <td>Appliances</td>\n",
       "      <td>Armstrong-Little</td>\n",
       "      <td>Othello Bowes</td>\n",
       "      <td>Avrit Chanders</td>\n",
       "      <td>Tablet</td>\n",
       "      <td>77-0650807</td>\n",
       "    </tr>\n",
       "    <tr>\n",
       "      <th>998</th>\n",
       "      <td>France</td>\n",
       "      <td>124784.67</td>\n",
       "      <td>106853.11</td>\n",
       "      <td>5/22/2020</td>\n",
       "      <td>Electronics</td>\n",
       "      <td>Swaniawski, Runolfsson and Green</td>\n",
       "      <td>Othello Bowes</td>\n",
       "      <td>Ora Grennan</td>\n",
       "      <td>Tablet</td>\n",
       "      <td>44-2757396</td>\n",
       "    </tr>\n",
       "    <tr>\n",
       "      <th>999</th>\n",
       "      <td>Germany</td>\n",
       "      <td>61968.26</td>\n",
       "      <td>50690.04</td>\n",
       "      <td>12/27/2020</td>\n",
       "      <td>Electronics</td>\n",
       "      <td>Romaguera-Dietrich</td>\n",
       "      <td>Rickard Doogood</td>\n",
       "      <td>Casie MacBain</td>\n",
       "      <td>PC</td>\n",
       "      <td>22-7259031</td>\n",
       "    </tr>\n",
       "    <tr>\n",
       "      <th>1000</th>\n",
       "      <td>Netherlands</td>\n",
       "      <td>172453.10</td>\n",
       "      <td>145688.38</td>\n",
       "      <td>6/24/2020</td>\n",
       "      <td>Outdoors</td>\n",
       "      <td>Kirlin and Sons</td>\n",
       "      <td>Denice Amberg</td>\n",
       "      <td>Nero Harbisher</td>\n",
       "      <td>PC</td>\n",
       "      <td>60-6986682</td>\n",
       "    </tr>\n",
       "  </tbody>\n",
       "</table>\n",
       "<p>1001 rows × 10 columns</p>\n",
       "</div>"
      ],
      "text/plain": [
       "          country  order_value_EUR       cost                 date  \\\n",
       "0          Sweden         98320.37   77722.25            8/23/2020   \n",
       "1          France         46296.26   40319.41            5/15/2020   \n",
       "2        Portugal        140337.34  115708.14  2020-04-09 00:00:00   \n",
       "3          France        203604.46  175344.16            6/26/2019   \n",
       "4              UK         63979.04   56032.84           10/22/2019   \n",
       "...           ...              ...        ...                  ...   \n",
       "996        France         69126.50    55902.6  2019-08-12 00:00:00   \n",
       "997        France        140943.88  120633.87            5/28/2020   \n",
       "998        France        124784.67  106853.11            5/22/2020   \n",
       "999       Germany         61968.26   50690.04           12/27/2020   \n",
       "1000  Netherlands        172453.10  145688.38            6/24/2020   \n",
       "\n",
       "         category                     customer_name    sales_manager  \\\n",
       "0           Games                    Konopelski LLC     Maxie Marrow   \n",
       "1           Games                        Wisoky Inc    Othello Bowes   \n",
       "2      Appliances                     Hegmann Group  Celine Tumasian   \n",
       "3     Electronics                   Kirlin and Sons    Othello Bowes   \n",
       "4           Games                    Schoen-Keeling  Jessamine Apark   \n",
       "...           ...                               ...              ...   \n",
       "996   Electronics     Farrell, Swaniawski and Crist    Othello Bowes   \n",
       "997    Appliances                  Armstrong-Little    Othello Bowes   \n",
       "998   Electronics  Swaniawski, Runolfsson and Green    Othello Bowes   \n",
       "999   Electronics                Romaguera-Dietrich  Rickard Doogood   \n",
       "1000     Outdoors                   Kirlin and Sons    Denice Amberg   \n",
       "\n",
       "                sales_rep device_type    order_id  \n",
       "0      Tarrah Castelletti      Tablet  70-0511466  \n",
       "1     Amelina Piscopiello      Tablet  77-3489084  \n",
       "2           Corene Shirer          PC  65-8218141  \n",
       "3            Crysta Halls      Mobile  29-5478106  \n",
       "4      Genevra Charrisson          PC  27-3437546  \n",
       "...                   ...         ...         ...  \n",
       "996        Avrit Chanders          PC  07-3201531  \n",
       "997        Avrit Chanders      Tablet  77-0650807  \n",
       "998           Ora Grennan      Tablet  44-2757396  \n",
       "999         Casie MacBain          PC  22-7259031  \n",
       "1000       Nero Harbisher          PC  60-6986682  \n",
       "\n",
       "[1001 rows x 10 columns]"
      ]
     },
     "execution_count": 3,
     "metadata": {},
     "output_type": "execute_result"
    }
   ],
   "source": [
    "sales = pd.read_excel('/kaggle/input/sales-data/sales data.xlsx')\n",
    "sales\n"
   ]
  },
  {
   "cell_type": "code",
   "execution_count": 4,
   "id": "acdb26be",
   "metadata": {
    "execution": {
     "iopub.execute_input": "2024-11-12T14:33:58.774976Z",
     "iopub.status.busy": "2024-11-12T14:33:58.774369Z",
     "iopub.status.idle": "2024-11-12T14:33:58.791784Z",
     "shell.execute_reply": "2024-11-12T14:33:58.790655Z"
    },
    "papermill": {
     "duration": 0.026754,
     "end_time": "2024-11-12T14:33:58.794281",
     "exception": false,
     "start_time": "2024-11-12T14:33:58.767527",
     "status": "completed"
    },
    "tags": []
   },
   "outputs": [
    {
     "data": {
      "text/html": [
       "<div>\n",
       "<style scoped>\n",
       "    .dataframe tbody tr th:only-of-type {\n",
       "        vertical-align: middle;\n",
       "    }\n",
       "\n",
       "    .dataframe tbody tr th {\n",
       "        vertical-align: top;\n",
       "    }\n",
       "\n",
       "    .dataframe thead th {\n",
       "        text-align: right;\n",
       "    }\n",
       "</style>\n",
       "<table border=\"1\" class=\"dataframe\">\n",
       "  <thead>\n",
       "    <tr style=\"text-align: right;\">\n",
       "      <th></th>\n",
       "      <th>country</th>\n",
       "      <th>order_value_EUR</th>\n",
       "      <th>cost</th>\n",
       "      <th>date</th>\n",
       "      <th>category</th>\n",
       "      <th>customer_name</th>\n",
       "      <th>sales_manager</th>\n",
       "      <th>sales_rep</th>\n",
       "      <th>device_type</th>\n",
       "      <th>order_id</th>\n",
       "    </tr>\n",
       "  </thead>\n",
       "  <tbody>\n",
       "    <tr>\n",
       "      <th>998</th>\n",
       "      <td>France</td>\n",
       "      <td>124784.67</td>\n",
       "      <td>106853.11</td>\n",
       "      <td>5/22/2020</td>\n",
       "      <td>Electronics</td>\n",
       "      <td>Swaniawski, Runolfsson and Green</td>\n",
       "      <td>Othello Bowes</td>\n",
       "      <td>Ora Grennan</td>\n",
       "      <td>Tablet</td>\n",
       "      <td>44-2757396</td>\n",
       "    </tr>\n",
       "    <tr>\n",
       "      <th>999</th>\n",
       "      <td>Germany</td>\n",
       "      <td>61968.26</td>\n",
       "      <td>50690.04</td>\n",
       "      <td>12/27/2020</td>\n",
       "      <td>Electronics</td>\n",
       "      <td>Romaguera-Dietrich</td>\n",
       "      <td>Rickard Doogood</td>\n",
       "      <td>Casie MacBain</td>\n",
       "      <td>PC</td>\n",
       "      <td>22-7259031</td>\n",
       "    </tr>\n",
       "    <tr>\n",
       "      <th>1000</th>\n",
       "      <td>Netherlands</td>\n",
       "      <td>172453.10</td>\n",
       "      <td>145688.38</td>\n",
       "      <td>6/24/2020</td>\n",
       "      <td>Outdoors</td>\n",
       "      <td>Kirlin and Sons</td>\n",
       "      <td>Denice Amberg</td>\n",
       "      <td>Nero Harbisher</td>\n",
       "      <td>PC</td>\n",
       "      <td>60-6986682</td>\n",
       "    </tr>\n",
       "  </tbody>\n",
       "</table>\n",
       "</div>"
      ],
      "text/plain": [
       "          country  order_value_EUR       cost        date     category  \\\n",
       "998        France        124784.67  106853.11   5/22/2020  Electronics   \n",
       "999       Germany         61968.26   50690.04  12/27/2020  Electronics   \n",
       "1000  Netherlands        172453.10  145688.38   6/24/2020     Outdoors   \n",
       "\n",
       "                         customer_name    sales_manager       sales_rep  \\\n",
       "998   Swaniawski, Runolfsson and Green    Othello Bowes     Ora Grennan   \n",
       "999                 Romaguera-Dietrich  Rickard Doogood   Casie MacBain   \n",
       "1000                   Kirlin and Sons    Denice Amberg  Nero Harbisher   \n",
       "\n",
       "     device_type    order_id  \n",
       "998       Tablet  44-2757396  \n",
       "999           PC  22-7259031  \n",
       "1000          PC  60-6986682  "
      ]
     },
     "execution_count": 4,
     "metadata": {},
     "output_type": "execute_result"
    }
   ],
   "source": [
    "sales.tail(3)"
   ]
  },
  {
   "cell_type": "code",
   "execution_count": 5,
   "id": "ba4bbcc1",
   "metadata": {
    "execution": {
     "iopub.execute_input": "2024-11-12T14:33:58.807848Z",
     "iopub.status.busy": "2024-11-12T14:33:58.807320Z",
     "iopub.status.idle": "2024-11-12T14:33:58.836811Z",
     "shell.execute_reply": "2024-11-12T14:33:58.835400Z"
    },
    "papermill": {
     "duration": 0.039443,
     "end_time": "2024-11-12T14:33:58.839532",
     "exception": false,
     "start_time": "2024-11-12T14:33:58.800089",
     "status": "completed"
    },
    "tags": []
   },
   "outputs": [
    {
     "name": "stdout",
     "output_type": "stream",
     "text": [
      "<class 'pandas.core.frame.DataFrame'>\n",
      "RangeIndex: 1001 entries, 0 to 1000\n",
      "Data columns (total 10 columns):\n",
      " #   Column           Non-Null Count  Dtype  \n",
      "---  ------           --------------  -----  \n",
      " 0   country          1001 non-null   object \n",
      " 1   order_value_EUR  996 non-null    float64\n",
      " 2   cost             1001 non-null   object \n",
      " 3   date             1001 non-null   object \n",
      " 4   category         1001 non-null   object \n",
      " 5   customer_name    1001 non-null   object \n",
      " 6   sales_manager    1001 non-null   object \n",
      " 7   sales_rep        1001 non-null   object \n",
      " 8   device_type      996 non-null    object \n",
      " 9   order_id         1001 non-null   object \n",
      "dtypes: float64(1), object(9)\n",
      "memory usage: 78.3+ KB\n"
     ]
    }
   ],
   "source": [
    "sales.info()"
   ]
  },
  {
   "cell_type": "code",
   "execution_count": 6,
   "id": "55a6b522",
   "metadata": {
    "execution": {
     "iopub.execute_input": "2024-11-12T14:33:58.853998Z",
     "iopub.status.busy": "2024-11-12T14:33:58.852836Z",
     "iopub.status.idle": "2024-11-12T14:33:58.870273Z",
     "shell.execute_reply": "2024-11-12T14:33:58.868976Z"
    },
    "papermill": {
     "duration": 0.027562,
     "end_time": "2024-11-12T14:33:58.873097",
     "exception": false,
     "start_time": "2024-11-12T14:33:58.845535",
     "status": "completed"
    },
    "tags": []
   },
   "outputs": [
    {
     "data": {
      "text/html": [
       "<div>\n",
       "<style scoped>\n",
       "    .dataframe tbody tr th:only-of-type {\n",
       "        vertical-align: middle;\n",
       "    }\n",
       "\n",
       "    .dataframe tbody tr th {\n",
       "        vertical-align: top;\n",
       "    }\n",
       "\n",
       "    .dataframe thead th {\n",
       "        text-align: right;\n",
       "    }\n",
       "</style>\n",
       "<table border=\"1\" class=\"dataframe\">\n",
       "  <thead>\n",
       "    <tr style=\"text-align: right;\">\n",
       "      <th></th>\n",
       "      <th>order_value_EUR</th>\n",
       "    </tr>\n",
       "  </thead>\n",
       "  <tbody>\n",
       "    <tr>\n",
       "      <th>count</th>\n",
       "      <td>996.000000</td>\n",
       "    </tr>\n",
       "    <tr>\n",
       "      <th>mean</th>\n",
       "      <td>113193.920361</td>\n",
       "    </tr>\n",
       "    <tr>\n",
       "      <th>std</th>\n",
       "      <td>61599.836849</td>\n",
       "    </tr>\n",
       "    <tr>\n",
       "      <th>min</th>\n",
       "      <td>15100.570000</td>\n",
       "    </tr>\n",
       "    <tr>\n",
       "      <th>25%</th>\n",
       "      <td>65243.642500</td>\n",
       "    </tr>\n",
       "    <tr>\n",
       "      <th>50%</th>\n",
       "      <td>105357.645000</td>\n",
       "    </tr>\n",
       "    <tr>\n",
       "      <th>75%</th>\n",
       "      <td>151047.032500</td>\n",
       "    </tr>\n",
       "    <tr>\n",
       "      <th>max</th>\n",
       "      <td>383996.760000</td>\n",
       "    </tr>\n",
       "  </tbody>\n",
       "</table>\n",
       "</div>"
      ],
      "text/plain": [
       "       order_value_EUR\n",
       "count       996.000000\n",
       "mean     113193.920361\n",
       "std       61599.836849\n",
       "min       15100.570000\n",
       "25%       65243.642500\n",
       "50%      105357.645000\n",
       "75%      151047.032500\n",
       "max      383996.760000"
      ]
     },
     "execution_count": 6,
     "metadata": {},
     "output_type": "execute_result"
    }
   ],
   "source": [
    "sales.describe()"
   ]
  },
  {
   "cell_type": "code",
   "execution_count": 7,
   "id": "f4b3c9ae",
   "metadata": {
    "execution": {
     "iopub.execute_input": "2024-11-12T14:33:58.887451Z",
     "iopub.status.busy": "2024-11-12T14:33:58.887015Z",
     "iopub.status.idle": "2024-11-12T14:33:58.897351Z",
     "shell.execute_reply": "2024-11-12T14:33:58.896280Z"
    },
    "papermill": {
     "duration": 0.020538,
     "end_time": "2024-11-12T14:33:58.899941",
     "exception": false,
     "start_time": "2024-11-12T14:33:58.879403",
     "status": "completed"
    },
    "tags": []
   },
   "outputs": [
    {
     "data": {
      "text/plain": [
       "0            Sweden\n",
       "1            France\n",
       "2          Portugal\n",
       "3            France\n",
       "4                UK\n",
       "           ...     \n",
       "996          France\n",
       "997          France\n",
       "998          France\n",
       "999         Germany\n",
       "1000    Netherlands\n",
       "Name: country, Length: 1001, dtype: object"
      ]
     },
     "execution_count": 7,
     "metadata": {},
     "output_type": "execute_result"
    }
   ],
   "source": [
    "sales[\"country\"]"
   ]
  },
  {
   "cell_type": "code",
   "execution_count": 8,
   "id": "586dbe08",
   "metadata": {
    "execution": {
     "iopub.execute_input": "2024-11-12T14:33:58.914538Z",
     "iopub.status.busy": "2024-11-12T14:33:58.914104Z",
     "iopub.status.idle": "2024-11-12T14:33:58.921764Z",
     "shell.execute_reply": "2024-11-12T14:33:58.920675Z"
    },
    "papermill": {
     "duration": 0.017886,
     "end_time": "2024-11-12T14:33:58.924357",
     "exception": false,
     "start_time": "2024-11-12T14:33:58.906471",
     "status": "completed"
    },
    "tags": []
   },
   "outputs": [
    {
     "data": {
      "text/plain": [
       "pandas.core.series.Series"
      ]
     },
     "execution_count": 8,
     "metadata": {},
     "output_type": "execute_result"
    }
   ],
   "source": [
    "type(sales[\"cost\"])"
   ]
  },
  {
   "cell_type": "code",
   "execution_count": 9,
   "id": "28c4c979",
   "metadata": {
    "execution": {
     "iopub.execute_input": "2024-11-12T14:33:58.939775Z",
     "iopub.status.busy": "2024-11-12T14:33:58.938804Z",
     "iopub.status.idle": "2024-11-12T14:33:58.954213Z",
     "shell.execute_reply": "2024-11-12T14:33:58.952946Z"
    },
    "papermill": {
     "duration": 0.025928,
     "end_time": "2024-11-12T14:33:58.956868",
     "exception": false,
     "start_time": "2024-11-12T14:33:58.930940",
     "status": "completed"
    },
    "tags": []
   },
   "outputs": [
    {
     "data": {
      "text/html": [
       "<div>\n",
       "<style scoped>\n",
       "    .dataframe tbody tr th:only-of-type {\n",
       "        vertical-align: middle;\n",
       "    }\n",
       "\n",
       "    .dataframe tbody tr th {\n",
       "        vertical-align: top;\n",
       "    }\n",
       "\n",
       "    .dataframe thead th {\n",
       "        text-align: right;\n",
       "    }\n",
       "</style>\n",
       "<table border=\"1\" class=\"dataframe\">\n",
       "  <thead>\n",
       "    <tr style=\"text-align: right;\">\n",
       "      <th></th>\n",
       "      <th>country</th>\n",
       "      <th>cost</th>\n",
       "    </tr>\n",
       "  </thead>\n",
       "  <tbody>\n",
       "    <tr>\n",
       "      <th>0</th>\n",
       "      <td>Sweden</td>\n",
       "      <td>77722.25</td>\n",
       "    </tr>\n",
       "    <tr>\n",
       "      <th>1</th>\n",
       "      <td>France</td>\n",
       "      <td>40319.41</td>\n",
       "    </tr>\n",
       "    <tr>\n",
       "      <th>2</th>\n",
       "      <td>Portugal</td>\n",
       "      <td>115708.14</td>\n",
       "    </tr>\n",
       "    <tr>\n",
       "      <th>3</th>\n",
       "      <td>France</td>\n",
       "      <td>175344.16</td>\n",
       "    </tr>\n",
       "    <tr>\n",
       "      <th>4</th>\n",
       "      <td>UK</td>\n",
       "      <td>56032.84</td>\n",
       "    </tr>\n",
       "    <tr>\n",
       "      <th>...</th>\n",
       "      <td>...</td>\n",
       "      <td>...</td>\n",
       "    </tr>\n",
       "    <tr>\n",
       "      <th>996</th>\n",
       "      <td>France</td>\n",
       "      <td>55902.6</td>\n",
       "    </tr>\n",
       "    <tr>\n",
       "      <th>997</th>\n",
       "      <td>France</td>\n",
       "      <td>120633.87</td>\n",
       "    </tr>\n",
       "    <tr>\n",
       "      <th>998</th>\n",
       "      <td>France</td>\n",
       "      <td>106853.11</td>\n",
       "    </tr>\n",
       "    <tr>\n",
       "      <th>999</th>\n",
       "      <td>Germany</td>\n",
       "      <td>50690.04</td>\n",
       "    </tr>\n",
       "    <tr>\n",
       "      <th>1000</th>\n",
       "      <td>Netherlands</td>\n",
       "      <td>145688.38</td>\n",
       "    </tr>\n",
       "  </tbody>\n",
       "</table>\n",
       "<p>1001 rows × 2 columns</p>\n",
       "</div>"
      ],
      "text/plain": [
       "          country       cost\n",
       "0          Sweden   77722.25\n",
       "1          France   40319.41\n",
       "2        Portugal  115708.14\n",
       "3          France  175344.16\n",
       "4              UK   56032.84\n",
       "...           ...        ...\n",
       "996        France    55902.6\n",
       "997        France  120633.87\n",
       "998        France  106853.11\n",
       "999       Germany   50690.04\n",
       "1000  Netherlands  145688.38\n",
       "\n",
       "[1001 rows x 2 columns]"
      ]
     },
     "execution_count": 9,
     "metadata": {},
     "output_type": "execute_result"
    }
   ],
   "source": [
    "sales[[\"country\",\"cost\"]]"
   ]
  },
  {
   "cell_type": "code",
   "execution_count": 10,
   "id": "209d0ef5",
   "metadata": {
    "execution": {
     "iopub.execute_input": "2024-11-12T14:33:58.972590Z",
     "iopub.status.busy": "2024-11-12T14:33:58.972174Z",
     "iopub.status.idle": "2024-11-12T14:33:58.981203Z",
     "shell.execute_reply": "2024-11-12T14:33:58.980051Z"
    },
    "papermill": {
     "duration": 0.019814,
     "end_time": "2024-11-12T14:33:58.983580",
     "exception": false,
     "start_time": "2024-11-12T14:33:58.963766",
     "status": "completed"
    },
    "tags": []
   },
   "outputs": [
    {
     "data": {
      "text/plain": [
       "country                        Sweden\n",
       "order_value_EUR              69681.43\n",
       "cost                         55529.13\n",
       "date                        1/25/2020\n",
       "category                     Clothing\n",
       "customer_name      Romaguera-Dietrich\n",
       "sales_manager            Maxie Marrow\n",
       "sales_rep                Alyosha Meah\n",
       "device_type                        PC\n",
       "order_id                   78-3301264\n",
       "Name: 6, dtype: object"
      ]
     },
     "execution_count": 10,
     "metadata": {},
     "output_type": "execute_result"
    }
   ],
   "source": [
    "sales.iloc[6]"
   ]
  },
  {
   "cell_type": "code",
   "execution_count": null,
   "id": "0d67373c",
   "metadata": {
    "execution": {
     "iopub.execute_input": "2024-11-12T14:32:51.289276Z",
     "iopub.status.busy": "2024-11-12T14:32:51.288850Z",
     "iopub.status.idle": "2024-11-12T14:32:51.391020Z",
     "shell.execute_reply": "2024-11-12T14:32:51.389623Z",
     "shell.execute_reply.started": "2024-11-12T14:32:51.289236Z"
    },
    "papermill": {
     "duration": 0.006745,
     "end_time": "2024-11-12T14:33:58.998163",
     "exception": false,
     "start_time": "2024-11-12T14:33:58.991418",
     "status": "completed"
    },
    "tags": []
   },
   "outputs": [],
   "source": []
  },
  {
   "cell_type": "code",
   "execution_count": null,
   "id": "9bd2bca7",
   "metadata": {
    "papermill": {
     "duration": 0.006809,
     "end_time": "2024-11-12T14:33:59.011987",
     "exception": false,
     "start_time": "2024-11-12T14:33:59.005178",
     "status": "completed"
    },
    "tags": []
   },
   "outputs": [],
   "source": []
  }
 ],
 "metadata": {
  "kaggle": {
   "accelerator": "none",
   "dataSources": [
    {
     "datasetId": 6066958,
     "sourceId": 9881002,
     "sourceType": "datasetVersion"
    },
    {
     "datasetId": 6067106,
     "sourceId": 9881172,
     "sourceType": "datasetVersion"
    },
    {
     "datasetId": 6070085,
     "sourceId": 9884958,
     "sourceType": "datasetVersion"
    },
    {
     "sourceId": 155051758,
     "sourceType": "kernelVersion"
    }
   ],
   "dockerImageVersionId": 30786,
   "isGpuEnabled": false,
   "isInternetEnabled": true,
   "language": "python",
   "sourceType": "notebook"
  },
  "kernelspec": {
   "display_name": "Python 3",
   "language": "python",
   "name": "python3"
  },
  "language_info": {
   "codemirror_mode": {
    "name": "ipython",
    "version": 3
   },
   "file_extension": ".py",
   "mimetype": "text/x-python",
   "name": "python",
   "nbconvert_exporter": "python",
   "pygments_lexer": "ipython3",
   "version": "3.10.14"
  },
  "papermill": {
   "default_parameters": {},
   "duration": 5.486622,
   "end_time": "2024-11-12T14:33:59.540331",
   "environment_variables": {},
   "exception": null,
   "input_path": "__notebook__.ipynb",
   "output_path": "__notebook__.ipynb",
   "parameters": {},
   "start_time": "2024-11-12T14:33:54.053709",
   "version": "2.6.0"
  }
 },
 "nbformat": 4,
 "nbformat_minor": 5
}
